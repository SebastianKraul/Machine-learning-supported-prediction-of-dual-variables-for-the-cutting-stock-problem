{
 "cells": [
  {
   "cell_type": "code",
   "execution_count": null,
   "id": "73624ebd-729e-4923-ac35-991f7f3f0c25",
   "metadata": {},
   "outputs": [],
   "source": [
    "import pandas as pd\n",
    "import numpy as np\n",
    "from sklearn import model_selection                     \n",
    "from sklearn.neural_network import MLPRegressor"
   ]
  },
  {
   "cell_type": "code",
   "execution_count": null,
   "id": "114ca4dc-4072-43a0-bdc1-f90a585be359",
   "metadata": {},
   "outputs": [],
   "source": [
    "df = pd.read_csv(\"trainingdata.csv\", sep=\";\") # load training data (CSP instances), i.e., dual values, relative size, and relative demand"
   ]
  },
  {
   "cell_type": "code",
   "execution_count": null,
   "id": "a21d49a4-f2e3-42b4-a051-fb8522f76cd0",
   "metadata": {},
   "outputs": [],
   "source": [
    "X = df.iloc[:100000,100:300] # training input for the learning algorithm, i.e., relative size and relative demand\n",
    "Y = df.iloc[:100000,:100] # true output, i.e., dual values"
   ]
  },
  {
   "cell_type": "code",
   "execution_count": null,
   "id": "4e7db3f9-9c54-4ace-889a-8ec1bbbfe024",
   "metadata": {},
   "outputs": [],
   "source": [
    "X_train80k, X_test80k, Y_train80k, Y_test80k = model_selection.train_test_split(X, Y, test_size=0.20, random_state=35) # split the data in training and test data || random_state can be changed"
   ]
  },
  {
   "cell_type": "code",
   "execution_count": null,
   "id": "8d9cd3f6-a4bb-427f-b0f5-1443c3c2da7c",
   "metadata": {},
   "outputs": [],
   "source": [
    "model = MLPRegressor(\n",
    "        # change our layer sizes\n",
    "        hidden_layer_sizes=(150,150,150,150,150,150), \n",
    "        # change our learning rate\n",
    "        learning_rate_init=0.01,       \n",
    "        # change our activation function, i.e., relu, tanh, identity\n",
    "        activation='relu',\n",
    "        max_iter=2000,\n",
    "        random_state=None, # if set to None, this is random, to an int, static seed\n",
    "        alpha=0.000001,\n",
    "        verbose=False # set this to True to see how well we are learning over the iterations\n",
    "        )\n",
    "model.fit(X_train80k, Y_train80k) # train the learning algorithm\n",
    "model.score(X_test80k, Y_test80k) # evaluate the performance"
   ]
  },
  {
   "cell_type": "code",
   "execution_count": null,
   "id": "16459b6d-b102-411c-ac70-b63d0b5b3d38",
   "metadata": {},
   "outputs": [],
   "source": [
    "X_new = pd.read_csv(\"newdata.csv\", index_col=0, sep=\";\") # load new (unknown) data (csp instances), i.e., relative size and relative demand\n",
    "Y_new = model.predict(X_new) # get the predicted dual values of the instances"
   ]
  }
 ],
 "metadata": {
  "kernelspec": {
   "display_name": "Python 3 (ipykernel)",
   "language": "python",
   "name": "python3"
  },
  "language_info": {
   "codemirror_mode": {
    "name": "ipython",
    "version": 3
   },
   "file_extension": ".py",
   "mimetype": "text/x-python",
   "name": "python",
   "nbconvert_exporter": "python",
   "pygments_lexer": "ipython3",
   "version": "3.9.7"
  }
 },
 "nbformat": 4,
 "nbformat_minor": 5
}
